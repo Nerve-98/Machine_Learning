{
  "nbformat": 4,
  "nbformat_minor": 0,
  "metadata": {
    "colab": {
      "name": "CNN.ipynb",
      "provenance": [],
      "authorship_tag": "ABX9TyOcJ9Z+fvl3tr6hGyxyS3Ax"
    },
    "kernelspec": {
      "name": "python3",
      "display_name": "Python 3"
    },
    "widgets": {
      "application/vnd.jupyter.widget-state+json": {
        "0d9270dcf6dd439cbc60c271d335303d": {
          "model_module": "@jupyter-widgets/controls",
          "model_name": "HBoxModel",
          "state": {
            "_view_name": "HBoxView",
            "_dom_classes": [],
            "_model_name": "HBoxModel",
            "_view_module": "@jupyter-widgets/controls",
            "_model_module_version": "1.5.0",
            "_view_count": null,
            "_view_module_version": "1.5.0",
            "box_style": "",
            "layout": "IPY_MODEL_00e98592be9142f0bd20b3ba58fde956",
            "_model_module": "@jupyter-widgets/controls",
            "children": [
              "IPY_MODEL_541bc53547294cf3835b085d529d0124",
              "IPY_MODEL_8828b38876bb4faeb2c0e4d594927233"
            ]
          }
        },
        "00e98592be9142f0bd20b3ba58fde956": {
          "model_module": "@jupyter-widgets/base",
          "model_name": "LayoutModel",
          "state": {
            "_view_name": "LayoutView",
            "grid_template_rows": null,
            "right": null,
            "justify_content": null,
            "_view_module": "@jupyter-widgets/base",
            "overflow": null,
            "_model_module_version": "1.2.0",
            "_view_count": null,
            "flex_flow": null,
            "width": null,
            "min_width": null,
            "border": null,
            "align_items": null,
            "bottom": null,
            "_model_module": "@jupyter-widgets/base",
            "top": null,
            "grid_column": null,
            "overflow_y": null,
            "overflow_x": null,
            "grid_auto_flow": null,
            "grid_area": null,
            "grid_template_columns": null,
            "flex": null,
            "_model_name": "LayoutModel",
            "justify_items": null,
            "grid_row": null,
            "max_height": null,
            "align_content": null,
            "visibility": null,
            "align_self": null,
            "height": null,
            "min_height": null,
            "padding": null,
            "grid_auto_rows": null,
            "grid_gap": null,
            "max_width": null,
            "order": null,
            "_view_module_version": "1.2.0",
            "grid_template_areas": null,
            "object_position": null,
            "object_fit": null,
            "grid_auto_columns": null,
            "margin": null,
            "display": null,
            "left": null
          }
        },
        "541bc53547294cf3835b085d529d0124": {
          "model_module": "@jupyter-widgets/controls",
          "model_name": "FloatProgressModel",
          "state": {
            "_view_name": "ProgressView",
            "style": "IPY_MODEL_432f74b1d8f94bc18e89161ecd9dad86",
            "_dom_classes": [],
            "description": "",
            "_model_name": "FloatProgressModel",
            "bar_style": "success",
            "max": 1,
            "_view_module": "@jupyter-widgets/controls",
            "_model_module_version": "1.5.0",
            "value": 1,
            "_view_count": null,
            "_view_module_version": "1.5.0",
            "orientation": "horizontal",
            "min": 0,
            "description_tooltip": null,
            "_model_module": "@jupyter-widgets/controls",
            "layout": "IPY_MODEL_28101d1b06a6473595045769ebc62fac"
          }
        },
        "8828b38876bb4faeb2c0e4d594927233": {
          "model_module": "@jupyter-widgets/controls",
          "model_name": "HTMLModel",
          "state": {
            "_view_name": "HTMLView",
            "style": "IPY_MODEL_8d9eb6a1f2c1435984e3e7f1cbdeb162",
            "_dom_classes": [],
            "description": "",
            "_model_name": "HTMLModel",
            "placeholder": "​",
            "_view_module": "@jupyter-widgets/controls",
            "_model_module_version": "1.5.0",
            "value": " 170500096/? [00:05&lt;00:00, 33653887.97it/s]",
            "_view_count": null,
            "_view_module_version": "1.5.0",
            "description_tooltip": null,
            "_model_module": "@jupyter-widgets/controls",
            "layout": "IPY_MODEL_91d11bfcdde045b796b97e172b16ebef"
          }
        },
        "432f74b1d8f94bc18e89161ecd9dad86": {
          "model_module": "@jupyter-widgets/controls",
          "model_name": "ProgressStyleModel",
          "state": {
            "_view_name": "StyleView",
            "_model_name": "ProgressStyleModel",
            "description_width": "initial",
            "_view_module": "@jupyter-widgets/base",
            "_model_module_version": "1.5.0",
            "_view_count": null,
            "_view_module_version": "1.2.0",
            "bar_color": null,
            "_model_module": "@jupyter-widgets/controls"
          }
        },
        "28101d1b06a6473595045769ebc62fac": {
          "model_module": "@jupyter-widgets/base",
          "model_name": "LayoutModel",
          "state": {
            "_view_name": "LayoutView",
            "grid_template_rows": null,
            "right": null,
            "justify_content": null,
            "_view_module": "@jupyter-widgets/base",
            "overflow": null,
            "_model_module_version": "1.2.0",
            "_view_count": null,
            "flex_flow": null,
            "width": null,
            "min_width": null,
            "border": null,
            "align_items": null,
            "bottom": null,
            "_model_module": "@jupyter-widgets/base",
            "top": null,
            "grid_column": null,
            "overflow_y": null,
            "overflow_x": null,
            "grid_auto_flow": null,
            "grid_area": null,
            "grid_template_columns": null,
            "flex": null,
            "_model_name": "LayoutModel",
            "justify_items": null,
            "grid_row": null,
            "max_height": null,
            "align_content": null,
            "visibility": null,
            "align_self": null,
            "height": null,
            "min_height": null,
            "padding": null,
            "grid_auto_rows": null,
            "grid_gap": null,
            "max_width": null,
            "order": null,
            "_view_module_version": "1.2.0",
            "grid_template_areas": null,
            "object_position": null,
            "object_fit": null,
            "grid_auto_columns": null,
            "margin": null,
            "display": null,
            "left": null
          }
        },
        "8d9eb6a1f2c1435984e3e7f1cbdeb162": {
          "model_module": "@jupyter-widgets/controls",
          "model_name": "DescriptionStyleModel",
          "state": {
            "_view_name": "StyleView",
            "_model_name": "DescriptionStyleModel",
            "description_width": "",
            "_view_module": "@jupyter-widgets/base",
            "_model_module_version": "1.5.0",
            "_view_count": null,
            "_view_module_version": "1.2.0",
            "_model_module": "@jupyter-widgets/controls"
          }
        },
        "91d11bfcdde045b796b97e172b16ebef": {
          "model_module": "@jupyter-widgets/base",
          "model_name": "LayoutModel",
          "state": {
            "_view_name": "LayoutView",
            "grid_template_rows": null,
            "right": null,
            "justify_content": null,
            "_view_module": "@jupyter-widgets/base",
            "overflow": null,
            "_model_module_version": "1.2.0",
            "_view_count": null,
            "flex_flow": null,
            "width": null,
            "min_width": null,
            "border": null,
            "align_items": null,
            "bottom": null,
            "_model_module": "@jupyter-widgets/base",
            "top": null,
            "grid_column": null,
            "overflow_y": null,
            "overflow_x": null,
            "grid_auto_flow": null,
            "grid_area": null,
            "grid_template_columns": null,
            "flex": null,
            "_model_name": "LayoutModel",
            "justify_items": null,
            "grid_row": null,
            "max_height": null,
            "align_content": null,
            "visibility": null,
            "align_self": null,
            "height": null,
            "min_height": null,
            "padding": null,
            "grid_auto_rows": null,
            "grid_gap": null,
            "max_width": null,
            "order": null,
            "_view_module_version": "1.2.0",
            "grid_template_areas": null,
            "object_position": null,
            "object_fit": null,
            "grid_auto_columns": null,
            "margin": null,
            "display": null,
            "left": null
          }
        }
      }
    },
    "accelerator": "GPU"
  },
  "cells": [
    {
      "cell_type": "code",
      "metadata": {
        "colab": {
          "base_uri": "https://localhost:8080/",
          "height": 121,
          "referenced_widgets": [
            "0d9270dcf6dd439cbc60c271d335303d",
            "00e98592be9142f0bd20b3ba58fde956",
            "541bc53547294cf3835b085d529d0124",
            "8828b38876bb4faeb2c0e4d594927233",
            "432f74b1d8f94bc18e89161ecd9dad86",
            "28101d1b06a6473595045769ebc62fac",
            "8d9eb6a1f2c1435984e3e7f1cbdeb162",
            "91d11bfcdde045b796b97e172b16ebef"
          ]
        },
        "id": "KM7xReBL5LDe",
        "outputId": "e81ef2ed-ec7a-4fb2-b1be-1a521a10ab72"
      },
      "source": [
        "from __future__ import print_function\r\n",
        "\r\n",
        "import torch\r\n",
        "import torch.nn as nn\r\n",
        "import torch.nn.functional as F\r\n",
        "import torch.optim as optim\r\n",
        "\r\n",
        "from PIL import Image\r\n",
        "import matplotlib.pyplot as plt\r\n",
        "\r\n",
        "import torchvision\r\n",
        "import torchvision.transforms as transforms\r\n",
        "import torchvision.models as models\r\n",
        "\r\n",
        "import copy\r\n",
        "import os\r\n",
        "import numpy as np \r\n",
        "import random\r\n",
        "import time \r\n",
        "import os\r\n",
        "\r\n",
        "torch.backends.cudnn.deterministic = True \r\n",
        "torch.backends.cudnn.benchmark = False\r\n",
        "\r\n",
        "transform = transforms.Compose([\r\n",
        "        transforms.RandomCrop(32, padding=4), \r\n",
        "        transforms.RandomHorizontalFlip(),\r\n",
        "        transforms.ToTensor(),\r\n",
        "        transforms.Normalize(mean=[0.4914, 0.4822, 0.4465], std=[0.2023,0.1994,0.2010]),\r\n",
        "        ])\r\n",
        "\r\n",
        "\r\n",
        "transform_test = transforms.Compose([\r\n",
        "        transforms.ToTensor(), \r\n",
        "        transforms.Normalize(mean=[0.4914, 0.4822, 0.4465], std=[0.2023,0.1994,0.2010]),\r\n",
        "        ]) \r\n",
        "\r\n",
        "\r\n",
        "\r\n",
        "train_dataset = torchvision.datasets.CIFAR10(root='./data', train=True, download=True, transform=transform)\r\n",
        "test_dataset = torchvision.datasets.CIFAR10(root='./data', train=False, download=True, transform=transform_test)\r\n",
        "\r\n",
        "\r\n",
        "\r\n",
        "train_loader = torch.utils.data.DataLoader(train_dataset, batch_size=100, shuffle=True) \r\n",
        "test_loader = torch.utils.data.DataLoader(test_dataset, batch_size=100) "
      ],
      "execution_count": 1,
      "outputs": [
        {
          "output_type": "stream",
          "text": [
            "Downloading https://www.cs.toronto.edu/~kriz/cifar-10-python.tar.gz to ./data/cifar-10-python.tar.gz\n"
          ],
          "name": "stdout"
        },
        {
          "output_type": "display_data",
          "data": {
            "application/vnd.jupyter.widget-view+json": {
              "model_id": "0d9270dcf6dd439cbc60c271d335303d",
              "version_minor": 0,
              "version_major": 2
            },
            "text/plain": [
              "HBox(children=(FloatProgress(value=1.0, bar_style='info', max=1.0), HTML(value='')))"
            ]
          },
          "metadata": {
            "tags": []
          }
        },
        {
          "output_type": "stream",
          "text": [
            "Extracting ./data/cifar-10-python.tar.gz to ./data\n",
            "Files already downloaded and verified\n",
            "\n"
          ],
          "name": "stdout"
        }
      ]
    },
    {
      "cell_type": "markdown",
      "metadata": {
        "id": "Raimpqh08EOk"
      },
      "source": [
        "# function"
      ]
    },
    {
      "cell_type": "code",
      "metadata": {
        "id": "wg9JukL67JZ_"
      },
      "source": [
        "def reset_seed(seed):\r\n",
        "    torch.manual_seed(seed)\r\n",
        "    np.random.seed(seed)\r\n",
        "    random.seed(seed)\r\n",
        "\r\n",
        "class VGG(nn.Module):\r\n",
        "    def __init__(self):\r\n",
        "        super(VGG, self).__init__()\r\n",
        "        self.conv1 = nn.Conv2d(in_channels=3, out_channels=32, kernel_size=3, padding=1) \r\n",
        "        self.conv2 = nn.Conv2d(in_channels=32, out_channels=32, kernel_size=3, padding=1)\r\n",
        "        self.conv3 = nn.Conv2d(in_channels=32, out_channels=64, kernel_size=3, padding=1)\r\n",
        "        self.conv4 = nn.Conv2d(in_channels=64, out_channels=64, kernel_size=3, padding=1)\r\n",
        "        self.conv5 = nn.Conv2d(in_channels=64, out_channels=128, kernel_size=3, padding=1)\r\n",
        "        self.conv6 = nn.Conv2d(in_channels=128, out_channels=128, kernel_size=3, padding=1)\r\n",
        "        self.max_pool = nn.MaxPool2d(kernel_size=2, stride=2)  \r\n",
        "        self.avg_pool = nn.AdaptiveAvgPool2d(output_size = (1, 1)) \r\n",
        "        self.fc = nn.Linear(in_features=128, out_features=10)\r\n",
        "\r\n",
        "    def forward(self, x):\r\n",
        "        \r\n",
        "        x = self.conv1(x)\r\n",
        "        x = F.relu(x)\r\n",
        "        x = self.conv2(x)\r\n",
        "        x = F.relu(x)\r\n",
        "        x = self.max_pool(x)\r\n",
        "        x = self.conv3(x)\r\n",
        "        x = F.relu(x)\r\n",
        "        x = self.conv4(x)\r\n",
        "        x = F.relu(x)\r\n",
        "        x = self.max_pool(x)\r\n",
        "        x = self.conv5(x)\r\n",
        "        x = F.relu(x)\r\n",
        "        x = self.conv6(x)\r\n",
        "        x = F.relu(x)\r\n",
        "        x = self.avg_pool(x)\r\n",
        "        x = x.view(-1, 128)\r\n",
        "        x = self.fc(x)\r\n",
        "        return x\r\n",
        "\r\n",
        "def train(model, data_loader, criterion, optimizer, n_epoch):\r\n",
        "    model.train()\r\n",
        "    for epoch in range(n_epoch):\r\n",
        "        running_loss = 0\r\n",
        "        for i, (images, labels) in enumerate(data_loader):\r\n",
        "            images, labels = images.cuda(), labels.cuda()\r\n",
        "            model_outputs = model(images)\r\n",
        "\r\n",
        "            loss = criterion(input=model_outputs, target=labels)\r\n",
        "            running_loss += loss.item()\r\n",
        "            optimizer.zero_grad()\r\n",
        "            loss.backward()\r\n",
        "            optimizer.step()\r\n",
        "\r\n",
        "        print('Epoch {}, loss = {:.2f}'.format(epoch + 1, running_loss/len(data_loader)))\r\n",
        "\r\n",
        "def eval(model, data_loader):\r\n",
        "    model.eval()\r\n",
        "    total = 0\r\n",
        "    correct = 0\r\n",
        "    i = 3\r\n",
        "    with torch.no_grad():\r\n",
        "        for images, labels in data_loader:\r\n",
        "            images, labels = images.cuda(), labels.cuda()\r\n",
        "\r\n",
        "            model_outputs = model(images)\r\n",
        "            _, predicted = torch.max(model_outputs, 1)\r\n",
        "\r\n",
        "            total += labels.size(0)\r\n",
        "            correct += (predicted==labels).sum().item()\r\n",
        "            if i > 0:\r\n",
        "              i = i - 1\r\n",
        "              print(images.shape)\r\n",
        "              img = images.cpu().numpy()\r\n",
        "              plt.imshow(np.transpose(img[0], (1, 2, 0)))\r\n",
        "              plt.show()\r\n",
        "\r\n",
        "        accuracy = 100 * correct / total\r\n",
        "\r\n",
        "    print('Test Accuracy: {}%'.format(accuracy))\r\n"
      ],
      "execution_count": 6,
      "outputs": []
    },
    {
      "cell_type": "markdown",
      "metadata": {
        "id": "tPNbx0xx76q_"
      },
      "source": [
        "# no batchnorm"
      ]
    },
    {
      "cell_type": "code",
      "metadata": {
        "id": "zceXEV3O7fYj"
      },
      "source": [
        "reset_seed(0)\r\n",
        "criterion = nn.CrossEntropyLoss()\r\n",
        "vgg_model = VGG().to(\"cuda\")\r\n",
        "optimizer = optim.Adam(params=vgg_model.parameters())"
      ],
      "execution_count": 8,
      "outputs": []
    },
    {
      "cell_type": "markdown",
      "metadata": {
        "id": "JyStfVL0_2io"
      },
      "source": [
        "# train"
      ]
    },
    {
      "cell_type": "code",
      "metadata": {
        "colab": {
          "base_uri": "https://localhost:8080/"
        },
        "id": "R-sU4ExN_1Uc",
        "outputId": "f0babadf-4b68-4d07-fb9a-c73b2d32458d"
      },
      "source": [
        "train(vgg_model, train_loader, criterion, optimizer, n_epoch=10)"
      ],
      "execution_count": 9,
      "outputs": [
        {
          "output_type": "stream",
          "text": [
            "Epoch 1, loss = 1.78\n",
            "Epoch 2, loss = 1.37\n",
            "Epoch 3, loss = 1.15\n",
            "Epoch 4, loss = 1.01\n",
            "Epoch 5, loss = 0.91\n",
            "Epoch 6, loss = 0.83\n",
            "Epoch 7, loss = 0.78\n",
            "Epoch 8, loss = 0.73\n",
            "Epoch 9, loss = 0.68\n",
            "Epoch 10, loss = 0.65\n"
          ],
          "name": "stdout"
        }
      ]
    },
    {
      "cell_type": "markdown",
      "metadata": {
        "id": "3nPXkchN_31Z"
      },
      "source": [
        "# evaluate"
      ]
    },
    {
      "cell_type": "code",
      "metadata": {
        "colab": {
          "base_uri": "https://localhost:8080/",
          "height": 890
        },
        "id": "A5WSRlhF_5WU",
        "outputId": "d984d053-e7fd-4697-b12b-10c9c0c7faf2"
      },
      "source": [
        "eval(vgg_model, test_loader)"
      ],
      "execution_count": 10,
      "outputs": [
        {
          "output_type": "stream",
          "text": [
            "Clipping input data to the valid range for imshow with RGB data ([0..1] for floats or [0..255] for integers).\n"
          ],
          "name": "stderr"
        },
        {
          "output_type": "stream",
          "text": [
            "torch.Size([100, 3, 32, 32])\n"
          ],
          "name": "stdout"
        },
        {
          "output_type": "display_data",
          "data": {
            "image/png": "[encoded data removed]",
            "text/plain": [
              "<Figure size 432x288 with 1 Axes>"
            ]
          },
          "metadata": {
            "tags": [],
            "needs_background": "light"
          }
        },
        {
          "output_type": "stream",
          "text": [
            "torch.Size([100, 3, 32, 32])\n"
          ],
          "name": "stdout"
        },
        {
          "output_type": "stream",
          "text": [
            "Clipping input data to the valid range for imshow with RGB data ([0..1] for floats or [0..255] for integers).\n"
          ],
          "name": "stderr"
        },
        {
          "output_type": "display_data",
          "data": {
            "image/png": "[encoded data removed]",
            "text/plain": [
              "<Figure size 432x288 with 1 Axes>"
            ]
          },
          "metadata": {
            "tags": [],
            "needs_background": "light"
          }
        },
        {
          "output_type": "stream",
          "text": [
            "torch.Size([100, 3, 32, 32])\n"
          ],
          "name": "stdout"
        },
        {
          "output_type": "stream",
          "text": [
            "Clipping input data to the valid range for imshow with RGB data ([0..1] for floats or [0..255] for integers).\n"
          ],
          "name": "stderr"
        },
        {
          "output_type": "display_data",
          "data": {
            "image/png": "[encoded data removed]",
            "text/plain": [
              "<Figure size 432x288 with 1 Axes>"
            ]
          },
          "metadata": {
            "tags": [],
            "needs_background": "light"
          }
        },
        {
          "output_type": "stream",
          "text": [
            "Test Accuracy: 76.63%\n"
          ],
          "name": "stdout"
        }
      ]
    },
    {
      "cell_type": "markdown",
      "metadata": {
        "id": "G3XRR24iAzVq"
      },
      "source": [
        "# batchnorm implementation"
      ]
    },
    {
      "cell_type": "code",
      "metadata": {
        "id": "Ly-_CR4bAySu"
      },
      "source": [
        "class BatchNorm2d(nn.Module):\r\n",
        "    def __init__(self, output_num_channel):\r\n",
        "        super(BatchNorm2d, self).__init__()\r\n",
        "        self.gamma = nn.Parameter(torch.ones(1, output_num_channel, 1, 1)) \r\n",
        "        self.beta = nn.Parameter(torch.zeros(1, output_num_channel, 1, 1)) \r\n",
        "        \r\n",
        "        self.eps = 1e-8\r\n",
        "        self.alpha = 0.1\r\n",
        "        self.register_buffer('running_mean', torch.zeros((1, output_num_channel, 1, 1)))\r\n",
        "        self.register_buffer('running_var', torch.ones((1, output_num_channel, 1, 1)))\r\n",
        "        \r\n",
        "    def forward(self, input):\r\n",
        "        \r\n",
        "        if self.training:         \r\n",
        "          \r\n",
        "          mean_channel = torch.mean(input, dim=[0,2,3])\r\n",
        "          var_channel = torch.var(input, dim=[0,2,3])\r\n",
        "\r\n",
        "\r\n",
        "          mean_channel = mean_channel.view(1, -1, 1, 1)\r\n",
        "          var_channel = var_channel.view(1, -1, 1, 1)\r\n",
        "\r\n",
        "\r\n",
        "          input_normalized = (input - mean_channel) / torch.sqrt(var_channel + self.eps)\r\n",
        "          self.running_mean = self.alpha * mean_channel + (1-self.alpha) * self.running_mean\r\n",
        "          self.running_var = self.alpha * var_channel + (1-self.alpha) * self.running_var\r\n",
        "          output = self.gamma * input_normalized + self.beta\r\n",
        "\r\n",
        "        else:            \r\n",
        "          input_normalized = (input -  self.running_mean) / torch.sqrt(self.running_var + self.eps)\r\n",
        "          output = self.gamma * input_normalized + self.beta\r\n",
        "        \r\n",
        "        return output\r\n",
        "\r\n",
        "class VGG_BatchNorm(nn.Module):\r\n",
        "    def __init__(self):\r\n",
        "        super(VGG_BatchNorm, self).__init__()\r\n",
        "        self.conv1 = nn.Conv2d(in_channels=3, out_channels=32, kernel_size=3, padding=1) \r\n",
        "        self.norm1 = BatchNorm2d(32)\r\n",
        "        self.conv2 = nn.Conv2d(in_channels=32, out_channels=32, kernel_size=3, padding=1)\r\n",
        "        self.norm2 = BatchNorm2d(32)\r\n",
        "        \r\n",
        "        self.conv3 = nn.Conv2d(in_channels=32, out_channels=64, kernel_size=3, padding=1)\r\n",
        "        self.norm3 = BatchNorm2d(64)\r\n",
        "        \r\n",
        "        self.conv4 = nn.Conv2d(in_channels=64, out_channels=64, kernel_size=3, padding=1)\r\n",
        "        self.norm4 = BatchNorm2d(64)\r\n",
        "\r\n",
        "        self.conv5 = nn.Conv2d(in_channels=64, out_channels=128, kernel_size=3, padding=1)\r\n",
        "        self.norm5 = BatchNorm2d(128)\r\n",
        "        self.conv6 = nn.Conv2d(in_channels=128, out_channels=128, kernel_size=3, padding=1)\r\n",
        "        self.norm6 = BatchNorm2d(128)\r\n",
        "\r\n",
        "        self.max_pool = nn.MaxPool2d(kernel_size=2, stride=2)\r\n",
        "        self.avg_pool = nn.AdaptiveAvgPool2d(output_size = (1, 1)) \r\n",
        "        \r\n",
        "        self.fc = nn.Linear(in_features=128, out_features=10)\r\n",
        "\r\n",
        "    def forward(self, x):\r\n",
        "        x = self.conv1(x)\r\n",
        "        x = self.norm1(x)\r\n",
        "        x = F.relu(x)\r\n",
        "        x = self.conv2(x)\r\n",
        "        x = self.norm2(x)\r\n",
        "        x = F.relu(x)\r\n",
        "\r\n",
        "        x = self.max_pool(x)\r\n",
        "\r\n",
        "        x = self.conv3(x)\r\n",
        "        x = self.norm3(x)\r\n",
        "        x = F.relu(x)\r\n",
        "        x = self.conv4(x)\r\n",
        "        x = self.norm4(x)\r\n",
        "        x = F.relu(x)\r\n",
        "\r\n",
        "        x = self.max_pool(x)\r\n",
        "        \r\n",
        "        x = self.conv5(x)\r\n",
        "        x = self.norm5(x)\r\n",
        "        x = F.relu(x)\r\n",
        "        x = self.conv6(x)\r\n",
        "        x = self.norm6(x)\r\n",
        "        x = F.relu(x)\r\n",
        "        \r\n",
        "        x = self.avg_pool(x)\r\n",
        "        x = x.view(-1, 128)\r\n",
        "        x = self.fc(x)\r\n",
        "        return x"
      ],
      "execution_count": 14,
      "outputs": []
    },
    {
      "cell_type": "code",
      "metadata": {
        "id": "P7eq1EDMBnhN"
      },
      "source": [
        "reset_seed(0)\r\n",
        "criterion = nn.CrossEntropyLoss()\r\n",
        "vgg_batchnorm_model = VGG_BatchNorm().to(\"cuda\")\r\n",
        "optimizer = optim.Adam(params=vgg_batchnorm_model.parameters())"
      ],
      "execution_count": 15,
      "outputs": []
    },
    {
      "cell_type": "code",
      "metadata": {
        "colab": {
          "base_uri": "https://localhost:8080/"
        },
        "id": "q_ruflS_DCD2",
        "outputId": "beba2ca8-ef99-4b44-a6f3-d1bf052262a0"
      },
      "source": [
        "train(vgg_batchnorm_model, train_loader, criterion, optimizer, n_epoch=10)"
      ],
      "execution_count": 16,
      "outputs": [
        {
          "output_type": "stream",
          "text": [
            "Epoch 1, loss = 1.30\n",
            "Epoch 2, loss = 0.90\n",
            "Epoch 3, loss = 0.74\n",
            "Epoch 4, loss = 0.65\n",
            "Epoch 5, loss = 0.59\n",
            "Epoch 6, loss = 0.54\n",
            "Epoch 7, loss = 0.51\n",
            "Epoch 8, loss = 0.48\n",
            "Epoch 9, loss = 0.46\n",
            "Epoch 10, loss = 0.43\n"
          ],
          "name": "stdout"
        }
      ]
    },
    {
      "cell_type": "code",
      "metadata": {
        "colab": {
          "base_uri": "https://localhost:8080/",
          "height": 890
        },
        "id": "I8D13JYwEYd4",
        "outputId": "082dd68e-9ee5-46e2-fadf-8ee679be7f5c"
      },
      "source": [
        "eval(vgg_batchnorm_model, test_loader)"
      ],
      "execution_count": 17,
      "outputs": [
        {
          "output_type": "stream",
          "text": [
            "Clipping input data to the valid range for imshow with RGB data ([0..1] for floats or [0..255] for integers).\n"
          ],
          "name": "stderr"
        },
        {
          "output_type": "stream",
          "text": [
            "torch.Size([100, 3, 32, 32])\n"
          ],
          "name": "stdout"
        },
        {
          "output_type": "display_data",
          "data": {
            "image/png": "[encoded data removed]",
            "text/plain": [
              "<Figure size 432x288 with 1 Axes>"
            ]
          },
          "metadata": {
            "tags": [],
            "needs_background": "light"
          }
        },
        {
          "output_type": "stream",
          "text": [
            "Clipping input data to the valid range for imshow with RGB data ([0..1] for floats or [0..255] for integers).\n"
          ],
          "name": "stderr"
        },
        {
          "output_type": "stream",
          "text": [
            "torch.Size([100, 3, 32, 32])\n"
          ],
          "name": "stdout"
        },
        {
          "output_type": "display_data",
          "data": {
            "image/png": "[encoded data removed]",
            "text/plain": [
              "<Figure size 432x288 with 1 Axes>"
            ]
          },
          "metadata": {
            "tags": [],
            "needs_background": "light"
          }
        },
        {
          "output_type": "stream",
          "text": [
            "Clipping input data to the valid range for imshow with RGB data ([0..1] for floats or [0..255] for integers).\n"
          ],
          "name": "stderr"
        },
        {
          "output_type": "stream",
          "text": [
            "torch.Size([100, 3, 32, 32])\n"
          ],
          "name": "stdout"
        },
        {
          "output_type": "display_data",
          "data": {
            "image/png": "[encoded data removed]",
            "text/plain": [
              "<Figure size 432x288 with 1 Axes>"
            ]
          },
          "metadata": {
            "tags": [],
            "needs_background": "light"
          }
        },
        {
          "output_type": "stream",
          "text": [
            "Test Accuracy: 79.84%\n"
          ],
          "name": "stdout"
        }
      ]
    }
  ]
}