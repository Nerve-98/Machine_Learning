{
  "nbformat": 4,
  "nbformat_minor": 0,
  "metadata": {
    "colab": {
      "name": "Linear_Classification_MNIST.ipynb",
      "provenance": [],
      "authorship_tag": "ABX9TyNLb0EHXE3a7/O07zaZNqf/"
    },
    "kernelspec": {
      "name": "python3",
      "display_name": "Python 3"
    }
  },
  "cells": [
    {
      "cell_type": "markdown",
      "metadata": {
        "id": "Lur5MudqxCqT"
      },
      "source": [
        "# Iris Dataset with SGD using scikit-learn"
      ]
    },
    {
      "cell_type": "code",
      "metadata": {
        "colab": {
          "base_uri": "https://localhost:8080/"
        },
        "id": "9HivAir-xEti",
        "outputId": "fd6ac0b5-1661-4a98-8417-54b37ce8eb6e"
      },
      "source": [
        "import numpy as np\r\n",
        "import sklearn\r\n",
        "import matplotlib.pyplot as plt\r\n",
        "from sklearn.datasets import load_iris\r\n",
        "from sklearn.model_selection import train_test_split\r\n",
        "from sklearn.linear_model import Perceptron\r\n",
        "from sklearn.metrics import accuracy_score\r\n",
        "\r\n",
        "\r\n",
        "Iris = load_iris()\r\n",
        "\r\n",
        "X_Data = Iris.data\r\n",
        "Y_Data = Iris.target\r\n",
        "\r\n",
        "\r\n",
        "X_train, X_test, Y_train, Y_test = train_test_split(X_Data, Y_Data, random_state = 0)\r\n",
        "\r\n",
        "\r\n",
        "model = Perceptron(eta0=0.1, max_iter=100)\r\n",
        "model.fit(X_train, Y_train)\r\n",
        "\r\n",
        "\r\n",
        "Y_Pred_train = model.predict(X_train)\r\n",
        "Y_Pred_test = model.predict(X_test)\r\n",
        "\r\n",
        "\r\n",
        "print('Training Accuracy :{:.2f}%'.format(100*accuracy_score(Y_train, Y_Pred_train)))\r\n",
        "print('Test Accuracy :{:.2f}%'.format(100*accuracy_score(Y_test, Y_Pred_test)))"
      ],
      "execution_count": 11,
      "outputs": [
        {
          "output_type": "stream",
          "text": [
            "Training Accuracy :93.75%\n",
            "Test Accuracy :86.84%\n"
          ],
          "name": "stdout"
        }
      ]
    },
    {
      "cell_type": "markdown",
      "metadata": {
        "id": "GJXeYMFHyNMc"
      },
      "source": [
        "# 2 Class MNIST"
      ]
    },
    {
      "cell_type": "code",
      "metadata": {
        "colab": {
          "base_uri": "https://localhost:8080/"
        },
        "id": "mN7GnWh9yR68",
        "outputId": "65fecde8-3a73-4ff4-8473-c8956b413e7b"
      },
      "source": [
        "!pip install gdown\r\n",
        "!gdown --id 1n70aILNV1U8I2VJlYekKuhBGbrNtCUNb\r\n",
        "!tar -xvf mnist_49.tar\r\n",
        "!rm -f mnist_49.tar\r\n",
        "\r\n",
        "X_train = np.load('mnist_49/X_train.npy')\r\n",
        "X_test = np.load('mnist_49/X_test.npy')\r\n",
        "Y_train = np.load('mnist_49/Y_train.npy')\r\n",
        "Y_test = np.load('mnist_49/Y_test.npy')"
      ],
      "execution_count": 13,
      "outputs": [
        {
          "output_type": "stream",
          "text": [
            "Requirement already satisfied: gdown in /usr/local/lib/python3.6/dist-packages (3.6.4)\n",
            "Requirement already satisfied: six in /usr/local/lib/python3.6/dist-packages (from gdown) (1.15.0)\n",
            "Requirement already satisfied: tqdm in /usr/local/lib/python3.6/dist-packages (from gdown) (4.41.1)\n",
            "Requirement already satisfied: requests in /usr/local/lib/python3.6/dist-packages (from gdown) (2.23.0)\n",
            "Requirement already satisfied: certifi>=2017.4.17 in /usr/local/lib/python3.6/dist-packages (from requests->gdown) (2020.12.5)\n",
            "Requirement already satisfied: chardet<4,>=3.0.2 in /usr/local/lib/python3.6/dist-packages (from requests->gdown) (3.0.4)\n",
            "Requirement already satisfied: urllib3!=1.25.0,!=1.25.1,<1.26,>=1.21.1 in /usr/local/lib/python3.6/dist-packages (from requests->gdown) (1.24.3)\n",
            "Requirement already satisfied: idna<3,>=2.5 in /usr/local/lib/python3.6/dist-packages (from requests->gdown) (2.10)\n",
            "Downloading...\n",
            "From: https://drive.google.com/uc?id=1n70aILNV1U8I2VJlYekKuhBGbrNtCUNb\n",
            "To: /content/mnist_49.tar\n",
            "10.9MB [00:00, 172MB/s]\n",
            "mnist_49/\n",
            "mnist_49/X_train.npy\n",
            "mnist_49/X_test.npy\n",
            "mnist_49/Y_test.npy\n",
            "mnist_49/Y_train.npy\n",
            "mnist_49/MNIST Copyright.txt\n"
          ],
          "name": "stdout"
        }
      ]
    },
    {
      "cell_type": "code",
      "metadata": {
        "colab": {
          "base_uri": "https://localhost:8080/",
          "height": 256
        },
        "id": "FLQQetkQypPP",
        "outputId": "00387f82-dffe-4fb0-cb2a-15d1545f5e66"
      },
      "source": [
        "print('Shape of data: {}'.format(X_train.shape[1:]))\r\n",
        "print('Number of train data: {}'.format(len(Y_train)))\r\n",
        "print('Number of test data: {}'.format(len(Y_test)))\r\n",
        "\r\n",
        "plt.subplot(1, 2, 1)\r\n",
        "plt.title('Digit: 4')\r\n",
        "plt.xticks([])\r\n",
        "plt.yticks([])\r\n",
        "plt.imshow(X_train[Y_train==0][0], cmap='gray_r')\r\n",
        "\r\n",
        "\r\n",
        "plt.subplot(1, 2, 2)\r\n",
        "plt.title('Digit: 9')\r\n",
        "plt.xticks([])\r\n",
        "plt.yticks([])\r\n",
        "plt.imshow(X_train[Y_train==1][0], cmap='gray_r')\r\n",
        "plt.show()"
      ],
      "execution_count": 39,
      "outputs": [
        {
          "output_type": "stream",
          "text": [
            "Shape of data: (28, 28)\n",
            "Number of train data: 11791\n",
            "Number of test data: 1991\n"
          ],
          "name": "stdout"
        },
        {
          "output_type": "display_data",
          "data": {
            "image/png": "[encoded data removed]",
            "text/plain": [
              "<Figure size 432x288 with 2 Axes>"
            ]
          },
          "metadata": {
            "tags": []
          }
        }
      ]
    },
    {
      "cell_type": "code",
      "metadata": {
        "colab": {
          "base_uri": "https://localhost:8080/",
          "height": 615
        },
        "id": "SqTvO19F3fQm",
        "outputId": "0df5528d-b110-46b2-c95e-f828b11ec35c"
      },
      "source": [
        "X_train_flatten = X_train.reshape(X_train.shape[0], -1)\r\n",
        "X_test_flatten = X_test.reshape(X_test.shape[0], -1)\r\n",
        "X_train_std = X_train_flatten / 255\r\n",
        "X_test_std = X_test_flatten / 255\r\n",
        "\r\n",
        "model = Perceptron(eta0=0.1, max_iter=100)\r\n",
        "model.fit(X_train_std, Y_train)\r\n",
        "\r\n",
        "\r\n",
        "Y_Pred_train = model.predict(X_train_std)\r\n",
        "Y_Pred_test = model.predict(X_test_std)\r\n",
        "\r\n",
        "\r\n",
        "\r\n",
        "\r\n",
        "np.random.seed(0)\r\n",
        "idxs = np.random.choice(len(Y_test), 15, replace=False)\r\n",
        "label_to_class = {0: '4', 1: '9'}\r\n",
        "\r\n",
        "plt.figure(figsize=(15, 10))\r\n",
        "for i, idx in enumerate(idxs):\r\n",
        "  plt.subplot(3, 5, i + 1)\r\n",
        "  plt.xticks([])\r\n",
        "  plt.yticks([])\r\n",
        "\r\n",
        "\r\n",
        "  predict = model.predict(X_test_std)\r\n",
        "  pred_label = (predict[idx] >= 0.5).astype(np.int)\r\n",
        "  plt.imshow(X_test[idx], cmap='gray_r')\r\n",
        "  plt.title('Prediction: {} '.format(label_to_class[pred_label]), fontsize=16)\r\n",
        "\r\n",
        "\r\n",
        "\r\n",
        "print('Training Accuracy :{:.2f}%'.format(100*accuracy_score(Y_train, Y_Pred_train)))\r\n",
        "print('Test Accuracy :{:.2f}%'.format(100*accuracy_score(Y_test, Y_Pred_test)))"
      ],
      "execution_count": 57,
      "outputs": [
        {
          "output_type": "stream",
          "text": [
            "Training Accuracy :97.49%\n",
            "Test Accuracy :96.74%\n"
          ],
          "name": "stdout"
        },
        {
          "output_type": "display_data",
          "data": {
            "image/png": "[encoded data removed]",
            "text/plain": [
              "<Figure size 1080x720 with 15 Axes>"
            ]
          },
          "metadata": {
            "tags": []
          }
        }
      ]
    }
  ]
}